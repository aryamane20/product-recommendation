{
 "cells": [
  {
   "cell_type": "code",
   "execution_count": 14,
   "id": "7191c5ee-7977-41be-8a40-de7204d9501b",
   "metadata": {},
   "outputs": [
    {
     "name": "stderr",
     "output_type": "stream",
     "text": [
      "/var/folders/k2/5hcbwx856_z5_q1m7ly2q4mm0000gn/T/ipykernel_25135/1611621295.py:5: UserWarning: Could not infer format, so each element will be parsed individually, falling back to `dateutil`. To ensure parsing is consistent and as-expected, please specify a format.\n",
      "  ratings = pd.read_csv(\"/Users/aryamane/Downloads/final_ratings_cleaned.csv\", parse_dates=['timestamp'])\n"
     ]
    },
    {
     "name": "stdout",
     "output_type": "stream",
     "text": [
      "user_features.csv created successfully!\n"
     ]
    },
    {
     "name": "stderr",
     "output_type": "stream",
     "text": [
      "/var/folders/k2/5hcbwx856_z5_q1m7ly2q4mm0000gn/T/ipykernel_25135/1611621295.py:6: UserWarning: Could not infer format, so each element will be parsed individually, falling back to `dateutil`. To ensure parsing is consistent and as-expected, please specify a format.\n",
      "  users = pd.read_csv(\"/Users/aryamane/Downloads/UserData/User_data_final.csv\", parse_dates=['signup_date'])\n"
     ]
    }
   ],
   "source": [
    "import pandas as pd\n",
    "import numpy as np\n",
    "\n",
    "# LOAD DATA\n",
    "ratings = pd.read_csv(\"/Users/aryamane/Downloads/final_ratings_cleaned.csv\", parse_dates=['timestamp'])\n",
    "users = pd.read_csv(\"/Users/aryamane/Downloads/UserData/User_data_final.csv\", parse_dates=['signup_date'])\n",
    "\n",
    "ratings = ratings.merge(users[['user_id', 'signup_date']], on='user_id', how='left')\n",
    "\n",
    "# SORTING FOR TIME GAP CALCULATION \n",
    "ratings = ratings.sort_values(by=['user_id', 'timestamp'])\n",
    "ratings['prev_time'] = ratings.groupby('user_id')['timestamp'].shift()\n",
    "ratings['gap_days'] = (ratings['timestamp'] - ratings['prev_time']).dt.days\n",
    "\n",
    "# USER-LEVEL FEATURE AGGREGATION \n",
    "user_features = ratings.groupby('user_id').agg({\n",
    "    'rating': ['count', 'mean', 'std'],\n",
    "    'timestamp': ['min', 'max'],\n",
    "    'gap_days': 'mean'\n",
    "})\n",
    "\n",
    "# FLATTEN MULTI-LEVEL COLUMNS\n",
    "user_features.columns = [\n",
    "    'num_ratings', 'avg_rating', 'std_rating',\n",
    "    'first_rating_date', 'last_rating_date', 'avg_days_between_ratings'\n",
    "]\n",
    "user_features = user_features.reset_index()\n",
    "\n",
    "user_features['days_active'] = (\n",
    "    user_features['last_rating_date'] - user_features['first_rating_date']\n",
    ").dt.days\n",
    "\n",
    "users['signup_date'] = pd.to_datetime(users['signup_date'])\n",
    "user_signup = users[['user_id', 'signup_date']].copy()\n",
    "user_signup['signup_year'] = user_signup['signup_date'].dt.year\n",
    "\n",
    "user_features = user_features.merge(user_signup[['user_id', 'signup_year']], on='user_id', how='left')\n",
    "\n",
    "user_features = user_features.drop(columns=['first_rating_date', 'last_rating_date'])\n",
    "user_features['std_rating'] = user_features['std_rating'].fillna(0)\n",
    "user_features['avg_days_between_ratings'] = user_features['avg_days_between_ratings'].fillna(0)\n",
    "\n",
    "user_features.to_csv(\"/Users/aryamane/Downloads/user_features.csv\", index=False)\n",
    "print(\"user_features.csv created successfully!\")\n"
   ]
  },
  {
   "cell_type": "code",
   "execution_count": null,
   "id": "bf9d5568-c6e6-48aa-8115-f1740e65e2a0",
   "metadata": {},
   "outputs": [],
   "source": []
  }
 ],
 "metadata": {
  "kernelspec": {
   "display_name": "Python [conda env:base] *",
   "language": "python",
   "name": "conda-base-py"
  },
  "language_info": {
   "codemirror_mode": {
    "name": "ipython",
    "version": 3
   },
   "file_extension": ".py",
   "mimetype": "text/x-python",
   "name": "python",
   "nbconvert_exporter": "python",
   "pygments_lexer": "ipython3",
   "version": "3.12.7"
  }
 },
 "nbformat": 4,
 "nbformat_minor": 5
}
